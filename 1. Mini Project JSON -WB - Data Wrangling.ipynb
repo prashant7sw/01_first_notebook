{
 "cells": [
  {
   "cell_type": "markdown",
   "metadata": {},
   "source": [
    "# JSON examples and exercise\n",
    "****\n",
    "+ get familiar with packages for dealing with JSON\n",
    "+ study examples with JSON strings and files \n",
    "+ work on exercise to be completed and submitted \n",
    "****\n",
    "+ reference: http://pandas.pydata.org/pandas-docs/stable/io.html#io-json-reader\n",
    "+ data source: http://jsonstudio.com/resources/\n",
    "****"
   ]
  },
  {
   "cell_type": "markdown",
   "metadata": {},
   "source": [
    "****\n",
    "## JSON exercise\n",
    "\n",
    "Using data in file 'data/world_bank_projects.json' and the techniques demonstrated above,\n",
    "1. Find the 10 countries with most projects\n",
    "2. Find the top 10 major project themes (using column 'mjtheme_namecode')\n",
    "3. In 2. above you will notice that some entries have only the code and the name is missing. Create a dataframe with the missing names filled in."
   ]
  },
  {
   "cell_type": "code",
   "execution_count": 1,
   "metadata": {},
   "outputs": [
    {
     "name": "stderr",
     "output_type": "stream",
     "text": [
      "\n",
      "Bad key \"text.kerning_factor\" on line 4 in\n",
      "/Users/prashantsingh/opt/anaconda3/lib/python3.7/site-packages/matplotlib/mpl-data/stylelib/_classic_test_patch.mplstyle.\n",
      "You probably need to get an updated matplotlibrc file from\n",
      "https://github.com/matplotlib/matplotlib/blob/v3.1.3/matplotlibrc.template\n",
      "or from the matplotlib source distribution\n"
     ]
    }
   ],
   "source": [
    "import pandas as pd\n",
    "import matplotlib.pyplot as plt\n",
    "import numpy as np"
   ]
  },
  {
   "cell_type": "markdown",
   "metadata": {},
   "source": [
    "## JSON example, with string\n",
    "\n",
    "+ demonstrates creation of normalized dataframes (tables) from nested json string\n",
    "\n",
    "+ source: http://pandas.pydata.org/pandas-docs/stable/io.html#normalization"
   ]
  },
  {
   "cell_type": "code",
   "execution_count": 2,
   "metadata": {},
   "outputs": [],
   "source": [
    "#Load the json_normalize\n",
    "import json\n",
    "from pandas.io.json import json_normalize"
   ]
  },
  {
   "cell_type": "code",
   "execution_count": 3,
   "metadata": {},
   "outputs": [],
   "source": [
    "# define json string\n",
    "data = [{'state': 'Florida', \n",
    "         'shortname': 'FL',\n",
    "         'info': {'governor': 'Rick Scott'},\n",
    "         'counties': [{'name': 'Dade', 'population': 12345},\n",
    "                      {'name': 'Broward', 'population': 40000},\n",
    "                      {'name': 'Palm Beach', 'population': 60000}]},\n",
    "        {'state': 'Ohio',\n",
    "         'shortname': 'OH',\n",
    "         'info': {'governor': 'John Kasich'},\n",
    "         'counties': [{'name': 'Summit', 'population': 1234},\n",
    "                      {'name': 'Cuyahoga', 'population': 1337}]}]\n"
   ]
  },
  {
   "cell_type": "code",
   "execution_count": 4,
   "metadata": {},
   "outputs": [
    {
     "name": "stderr",
     "output_type": "stream",
     "text": [
      "/Users/prashantsingh/opt/anaconda3/lib/python3.7/site-packages/ipykernel_launcher.py:1: FutureWarning: pandas.io.json.json_normalize is deprecated, use pandas.json_normalize instead\n",
      "  \"\"\"Entry point for launching an IPython kernel.\n"
     ]
    },
    {
     "data": {
      "text/html": [
       "<div>\n",
       "<style scoped>\n",
       "    .dataframe tbody tr th:only-of-type {\n",
       "        vertical-align: middle;\n",
       "    }\n",
       "\n",
       "    .dataframe tbody tr th {\n",
       "        vertical-align: top;\n",
       "    }\n",
       "\n",
       "    .dataframe thead th {\n",
       "        text-align: right;\n",
       "    }\n",
       "</style>\n",
       "<table border=\"1\" class=\"dataframe\">\n",
       "  <thead>\n",
       "    <tr style=\"text-align: right;\">\n",
       "      <th></th>\n",
       "      <th>name</th>\n",
       "      <th>population</th>\n",
       "      <th>state</th>\n",
       "      <th>shortname</th>\n",
       "      <th>info.governor</th>\n",
       "    </tr>\n",
       "  </thead>\n",
       "  <tbody>\n",
       "    <tr>\n",
       "      <th>0</th>\n",
       "      <td>Dade</td>\n",
       "      <td>12345</td>\n",
       "      <td>Florida</td>\n",
       "      <td>FL</td>\n",
       "      <td>Rick Scott</td>\n",
       "    </tr>\n",
       "    <tr>\n",
       "      <th>1</th>\n",
       "      <td>Broward</td>\n",
       "      <td>40000</td>\n",
       "      <td>Florida</td>\n",
       "      <td>FL</td>\n",
       "      <td>Rick Scott</td>\n",
       "    </tr>\n",
       "    <tr>\n",
       "      <th>2</th>\n",
       "      <td>Palm Beach</td>\n",
       "      <td>60000</td>\n",
       "      <td>Florida</td>\n",
       "      <td>FL</td>\n",
       "      <td>Rick Scott</td>\n",
       "    </tr>\n",
       "    <tr>\n",
       "      <th>3</th>\n",
       "      <td>Summit</td>\n",
       "      <td>1234</td>\n",
       "      <td>Ohio</td>\n",
       "      <td>OH</td>\n",
       "      <td>John Kasich</td>\n",
       "    </tr>\n",
       "    <tr>\n",
       "      <th>4</th>\n",
       "      <td>Cuyahoga</td>\n",
       "      <td>1337</td>\n",
       "      <td>Ohio</td>\n",
       "      <td>OH</td>\n",
       "      <td>John Kasich</td>\n",
       "    </tr>\n",
       "  </tbody>\n",
       "</table>\n",
       "</div>"
      ],
      "text/plain": [
       "         name  population    state shortname info.governor\n",
       "0        Dade       12345  Florida        FL    Rick Scott\n",
       "1     Broward       40000  Florida        FL    Rick Scott\n",
       "2  Palm Beach       60000  Florida        FL    Rick Scott\n",
       "3      Summit        1234     Ohio        OH   John Kasich\n",
       "4    Cuyahoga        1337     Ohio        OH   John Kasich"
      ]
     },
     "execution_count": 4,
     "metadata": {},
     "output_type": "execute_result"
    }
   ],
   "source": [
    "result=json_normalize(data, 'counties', ['state','shortname',['info','governor']])\n",
    "result"
   ]
  },
  {
   "cell_type": "code",
   "execution_count": 20,
   "metadata": {},
   "outputs": [],
   "source": [
    "#load the world bank dataset.\n",
    "WB = '/Users/prashantsingh/Desktop/data/world_bank_projects.json'\n",
    "df = pd.read_json(WB)"
   ]
  },
  {
   "cell_type": "code",
   "execution_count": 7,
   "metadata": {},
   "outputs": [
    {
     "data": {
      "text/plain": [
       "(500, 50)"
      ]
     },
     "execution_count": 7,
     "metadata": {},
     "output_type": "execute_result"
    }
   ],
   "source": [
    "df.shape"
   ]
  },
  {
   "cell_type": "markdown",
   "metadata": {},
   "source": [
    "Dataset contain 500 rows and 50 coulmns"
   ]
  },
  {
   "cell_type": "code",
   "execution_count": 8,
   "metadata": {},
   "outputs": [
    {
     "name": "stdout",
     "output_type": "stream",
     "text": [
      "<class 'pandas.core.frame.DataFrame'>\n",
      "RangeIndex: 500 entries, 0 to 499\n",
      "Data columns (total 50 columns):\n",
      " #   Column                    Non-Null Count  Dtype \n",
      "---  ------                    --------------  ----- \n",
      " 0   sector                    500 non-null    object\n",
      " 1   supplementprojectflg      498 non-null    object\n",
      " 2   projectfinancialtype      500 non-null    object\n",
      " 3   prodline                  500 non-null    object\n",
      " 4   mjtheme                   491 non-null    object\n",
      " 5   idacommamt                500 non-null    int64 \n",
      " 6   impagency                 472 non-null    object\n",
      " 7   project_name              500 non-null    object\n",
      " 8   mjthemecode               500 non-null    object\n",
      " 9   closingdate               370 non-null    object\n",
      " 10  totalcommamt              500 non-null    int64 \n",
      " 11  id                        500 non-null    object\n",
      " 12  mjsector_namecode         500 non-null    object\n",
      " 13  docty                     446 non-null    object\n",
      " 14  sector1                   500 non-null    object\n",
      " 15  lendinginstr              495 non-null    object\n",
      " 16  countrycode               500 non-null    object\n",
      " 17  sector2                   380 non-null    object\n",
      " 18  totalamt                  500 non-null    int64 \n",
      " 19  mjtheme_namecode          500 non-null    object\n",
      " 20  boardapprovaldate         500 non-null    object\n",
      " 21  countryshortname          500 non-null    object\n",
      " 22  sector4                   174 non-null    object\n",
      " 23  prodlinetext              500 non-null    object\n",
      " 24  productlinetype           500 non-null    object\n",
      " 25  regionname                500 non-null    object\n",
      " 26  status                    500 non-null    object\n",
      " 27  country_namecode          500 non-null    object\n",
      " 28  envassesmentcategorycode  430 non-null    object\n",
      " 29  project_abstract          362 non-null    object\n",
      " 30  approvalfy                500 non-null    int64 \n",
      " 31  projectdocs               446 non-null    object\n",
      " 32  lendprojectcost           500 non-null    int64 \n",
      " 33  lendinginstrtype          495 non-null    object\n",
      " 34  theme1                    500 non-null    object\n",
      " 35  grantamt                  500 non-null    int64 \n",
      " 36  themecode                 491 non-null    object\n",
      " 37  borrower                  485 non-null    object\n",
      " 38  sectorcode                500 non-null    object\n",
      " 39  sector3                   265 non-null    object\n",
      " 40  majorsector_percent       500 non-null    object\n",
      " 41  board_approval_month      500 non-null    object\n",
      " 42  theme_namecode            491 non-null    object\n",
      " 43  countryname               500 non-null    object\n",
      " 44  url                       500 non-null    object\n",
      " 45  source                    500 non-null    object\n",
      " 46  projectstatusdisplay      500 non-null    object\n",
      " 47  ibrdcommamt               500 non-null    int64 \n",
      " 48  sector_namecode           500 non-null    object\n",
      " 49  _id                       500 non-null    object\n",
      "dtypes: int64(7), object(43)\n",
      "memory usage: 195.4+ KB\n"
     ]
    }
   ],
   "source": [
    "df.info()"
   ]
  },
  {
   "cell_type": "code",
   "execution_count": 9,
   "metadata": {},
   "outputs": [
    {
     "data": {
      "text/html": [
       "<div>\n",
       "<style scoped>\n",
       "    .dataframe tbody tr th:only-of-type {\n",
       "        vertical-align: middle;\n",
       "    }\n",
       "\n",
       "    .dataframe tbody tr th {\n",
       "        vertical-align: top;\n",
       "    }\n",
       "\n",
       "    .dataframe thead th {\n",
       "        text-align: right;\n",
       "    }\n",
       "</style>\n",
       "<table border=\"1\" class=\"dataframe\">\n",
       "  <thead>\n",
       "    <tr style=\"text-align: right;\">\n",
       "      <th></th>\n",
       "      <th>idacommamt</th>\n",
       "      <th>totalcommamt</th>\n",
       "      <th>totalamt</th>\n",
       "      <th>approvalfy</th>\n",
       "      <th>lendprojectcost</th>\n",
       "      <th>grantamt</th>\n",
       "      <th>ibrdcommamt</th>\n",
       "    </tr>\n",
       "  </thead>\n",
       "  <tbody>\n",
       "    <tr>\n",
       "      <th>count</th>\n",
       "      <td>5.000000e+02</td>\n",
       "      <td>5.000000e+02</td>\n",
       "      <td>5.000000e+02</td>\n",
       "      <td>500.000000</td>\n",
       "      <td>5.000000e+02</td>\n",
       "      <td>5.000000e+02</td>\n",
       "      <td>5.000000e+02</td>\n",
       "    </tr>\n",
       "    <tr>\n",
       "      <th>mean</th>\n",
       "      <td>3.542136e+07</td>\n",
       "      <td>7.271386e+07</td>\n",
       "      <td>6.828146e+07</td>\n",
       "      <td>2013.108000</td>\n",
       "      <td>1.547241e+08</td>\n",
       "      <td>4.432400e+06</td>\n",
       "      <td>3.286010e+07</td>\n",
       "    </tr>\n",
       "    <tr>\n",
       "      <th>std</th>\n",
       "      <td>7.681431e+07</td>\n",
       "      <td>1.234705e+08</td>\n",
       "      <td>1.242662e+08</td>\n",
       "      <td>0.722066</td>\n",
       "      <td>4.764211e+08</td>\n",
       "      <td>2.023307e+07</td>\n",
       "      <td>1.089197e+08</td>\n",
       "    </tr>\n",
       "    <tr>\n",
       "      <th>min</th>\n",
       "      <td>0.000000e+00</td>\n",
       "      <td>3.000000e+04</td>\n",
       "      <td>0.000000e+00</td>\n",
       "      <td>1999.000000</td>\n",
       "      <td>3.000000e+04</td>\n",
       "      <td>0.000000e+00</td>\n",
       "      <td>0.000000e+00</td>\n",
       "    </tr>\n",
       "    <tr>\n",
       "      <th>25%</th>\n",
       "      <td>0.000000e+00</td>\n",
       "      <td>5.000000e+06</td>\n",
       "      <td>0.000000e+00</td>\n",
       "      <td>2013.000000</td>\n",
       "      <td>6.472500e+06</td>\n",
       "      <td>0.000000e+00</td>\n",
       "      <td>0.000000e+00</td>\n",
       "    </tr>\n",
       "    <tr>\n",
       "      <th>50%</th>\n",
       "      <td>0.000000e+00</td>\n",
       "      <td>2.500000e+07</td>\n",
       "      <td>2.000000e+07</td>\n",
       "      <td>2013.000000</td>\n",
       "      <td>3.500000e+07</td>\n",
       "      <td>0.000000e+00</td>\n",
       "      <td>0.000000e+00</td>\n",
       "    </tr>\n",
       "    <tr>\n",
       "      <th>75%</th>\n",
       "      <td>3.700000e+07</td>\n",
       "      <td>9.045000e+07</td>\n",
       "      <td>8.625000e+07</td>\n",
       "      <td>2013.000000</td>\n",
       "      <td>1.021250e+08</td>\n",
       "      <td>1.695000e+06</td>\n",
       "      <td>0.000000e+00</td>\n",
       "    </tr>\n",
       "    <tr>\n",
       "      <th>max</th>\n",
       "      <td>6.000000e+08</td>\n",
       "      <td>1.307800e+09</td>\n",
       "      <td>1.307800e+09</td>\n",
       "      <td>2015.000000</td>\n",
       "      <td>5.170000e+09</td>\n",
       "      <td>3.650000e+08</td>\n",
       "      <td>1.307800e+09</td>\n",
       "    </tr>\n",
       "  </tbody>\n",
       "</table>\n",
       "</div>"
      ],
      "text/plain": [
       "         idacommamt  totalcommamt      totalamt   approvalfy  lendprojectcost  \\\n",
       "count  5.000000e+02  5.000000e+02  5.000000e+02   500.000000     5.000000e+02   \n",
       "mean   3.542136e+07  7.271386e+07  6.828146e+07  2013.108000     1.547241e+08   \n",
       "std    7.681431e+07  1.234705e+08  1.242662e+08     0.722066     4.764211e+08   \n",
       "min    0.000000e+00  3.000000e+04  0.000000e+00  1999.000000     3.000000e+04   \n",
       "25%    0.000000e+00  5.000000e+06  0.000000e+00  2013.000000     6.472500e+06   \n",
       "50%    0.000000e+00  2.500000e+07  2.000000e+07  2013.000000     3.500000e+07   \n",
       "75%    3.700000e+07  9.045000e+07  8.625000e+07  2013.000000     1.021250e+08   \n",
       "max    6.000000e+08  1.307800e+09  1.307800e+09  2015.000000     5.170000e+09   \n",
       "\n",
       "           grantamt   ibrdcommamt  \n",
       "count  5.000000e+02  5.000000e+02  \n",
       "mean   4.432400e+06  3.286010e+07  \n",
       "std    2.023307e+07  1.089197e+08  \n",
       "min    0.000000e+00  0.000000e+00  \n",
       "25%    0.000000e+00  0.000000e+00  \n",
       "50%    0.000000e+00  0.000000e+00  \n",
       "75%    1.695000e+06  0.000000e+00  \n",
       "max    3.650000e+08  1.307800e+09  "
      ]
     },
     "execution_count": 9,
     "metadata": {},
     "output_type": "execute_result"
    }
   ],
   "source": [
    "df.describe()"
   ]
  },
  {
   "cell_type": "code",
   "execution_count": 10,
   "metadata": {
    "scrolled": true
   },
   "outputs": [
    {
     "data": {
      "text/plain": [
       "Index(['sector', 'supplementprojectflg', 'projectfinancialtype', 'prodline',\n",
       "       'mjtheme', 'idacommamt', 'impagency', 'project_name', 'mjthemecode',\n",
       "       'closingdate', 'totalcommamt', 'id', 'mjsector_namecode', 'docty',\n",
       "       'sector1', 'lendinginstr', 'countrycode', 'sector2', 'totalamt',\n",
       "       'mjtheme_namecode', 'boardapprovaldate', 'countryshortname', 'sector4',\n",
       "       'prodlinetext', 'productlinetype', 'regionname', 'status',\n",
       "       'country_namecode', 'envassesmentcategorycode', 'project_abstract',\n",
       "       'approvalfy', 'projectdocs', 'lendprojectcost', 'lendinginstrtype',\n",
       "       'theme1', 'grantamt', 'themecode', 'borrower', 'sectorcode', 'sector3',\n",
       "       'majorsector_percent', 'board_approval_month', 'theme_namecode',\n",
       "       'countryname', 'url', 'source', 'projectstatusdisplay', 'ibrdcommamt',\n",
       "       'sector_namecode', '_id'],\n",
       "      dtype='object')"
      ]
     },
     "execution_count": 10,
     "metadata": {},
     "output_type": "execute_result"
    }
   ],
   "source": [
    "df.columns"
   ]
  },
  {
   "cell_type": "code",
   "execution_count": 11,
   "metadata": {},
   "outputs": [
    {
     "data": {
      "text/html": [
       "<div>\n",
       "<style scoped>\n",
       "    .dataframe tbody tr th:only-of-type {\n",
       "        vertical-align: middle;\n",
       "    }\n",
       "\n",
       "    .dataframe tbody tr th {\n",
       "        vertical-align: top;\n",
       "    }\n",
       "\n",
       "    .dataframe thead th {\n",
       "        text-align: right;\n",
       "    }\n",
       "</style>\n",
       "<table border=\"1\" class=\"dataframe\">\n",
       "  <thead>\n",
       "    <tr style=\"text-align: right;\">\n",
       "      <th></th>\n",
       "      <th>sector</th>\n",
       "      <th>supplementprojectflg</th>\n",
       "      <th>projectfinancialtype</th>\n",
       "      <th>prodline</th>\n",
       "      <th>mjtheme</th>\n",
       "      <th>idacommamt</th>\n",
       "      <th>impagency</th>\n",
       "      <th>project_name</th>\n",
       "      <th>mjthemecode</th>\n",
       "      <th>closingdate</th>\n",
       "      <th>...</th>\n",
       "      <th>majorsector_percent</th>\n",
       "      <th>board_approval_month</th>\n",
       "      <th>theme_namecode</th>\n",
       "      <th>countryname</th>\n",
       "      <th>url</th>\n",
       "      <th>source</th>\n",
       "      <th>projectstatusdisplay</th>\n",
       "      <th>ibrdcommamt</th>\n",
       "      <th>sector_namecode</th>\n",
       "      <th>_id</th>\n",
       "    </tr>\n",
       "  </thead>\n",
       "  <tbody>\n",
       "    <tr>\n",
       "      <th>0</th>\n",
       "      <td>[{'Name': 'Primary education'}, {'Name': 'Seco...</td>\n",
       "      <td>N</td>\n",
       "      <td>IDA</td>\n",
       "      <td>PE</td>\n",
       "      <td>[Human development]</td>\n",
       "      <td>130000000</td>\n",
       "      <td>MINISTRY OF EDUCATION</td>\n",
       "      <td>Ethiopia General Education Quality Improvement...</td>\n",
       "      <td>8,11</td>\n",
       "      <td>2018-07-07T00:00:00Z</td>\n",
       "      <td>...</td>\n",
       "      <td>[{'Percent': 46, 'Name': 'Education'}, {'Perce...</td>\n",
       "      <td>November</td>\n",
       "      <td>[{'code': '65', 'name': 'Education for all'}]</td>\n",
       "      <td>Federal Democratic Republic of Ethiopia</td>\n",
       "      <td>http://www.worldbank.org/projects/P129828/ethi...</td>\n",
       "      <td>IBRD</td>\n",
       "      <td>Active</td>\n",
       "      <td>0</td>\n",
       "      <td>[{'code': 'EP', 'name': 'Primary education'}, ...</td>\n",
       "      <td>{'$oid': '52b213b38594d8a2be17c780'}</td>\n",
       "    </tr>\n",
       "    <tr>\n",
       "      <th>1</th>\n",
       "      <td>[{'Name': 'Public administration- Other social...</td>\n",
       "      <td>N</td>\n",
       "      <td>OTHER</td>\n",
       "      <td>RE</td>\n",
       "      <td>[Economic management, Social protection and ri...</td>\n",
       "      <td>0</td>\n",
       "      <td>MINISTRY OF FINANCE</td>\n",
       "      <td>TN: DTF Social Protection Reforms Support</td>\n",
       "      <td>1,6</td>\n",
       "      <td>NaN</td>\n",
       "      <td>...</td>\n",
       "      <td>[{'Percent': 70, 'Name': 'Public Administratio...</td>\n",
       "      <td>November</td>\n",
       "      <td>[{'code': '24', 'name': 'Other economic manage...</td>\n",
       "      <td>Republic of Tunisia</td>\n",
       "      <td>http://www.worldbank.org/projects/P144674?lang=en</td>\n",
       "      <td>IBRD</td>\n",
       "      <td>Active</td>\n",
       "      <td>0</td>\n",
       "      <td>[{'code': 'BS', 'name': 'Public administration...</td>\n",
       "      <td>{'$oid': '52b213b38594d8a2be17c781'}</td>\n",
       "    </tr>\n",
       "    <tr>\n",
       "      <th>2</th>\n",
       "      <td>[{'Name': 'Rural and Inter-Urban Roads and Hig...</td>\n",
       "      <td>Y</td>\n",
       "      <td>IDA</td>\n",
       "      <td>PE</td>\n",
       "      <td>[Trade and integration, Public sector governan...</td>\n",
       "      <td>6060000</td>\n",
       "      <td>MINISTRY OF TRANSPORT AND COMMUNICATIONS</td>\n",
       "      <td>Tuvalu Aviation Investment Project - Additiona...</td>\n",
       "      <td>5,2,11,6</td>\n",
       "      <td>NaN</td>\n",
       "      <td>...</td>\n",
       "      <td>[{'Percent': 100, 'Name': 'Transportation'}]</td>\n",
       "      <td>November</td>\n",
       "      <td>[{'code': '47', 'name': 'Regional integration'...</td>\n",
       "      <td>Tuvalu</td>\n",
       "      <td>http://www.worldbank.org/projects/P145310?lang=en</td>\n",
       "      <td>IBRD</td>\n",
       "      <td>Active</td>\n",
       "      <td>0</td>\n",
       "      <td>[{'code': 'TI', 'name': 'Rural and Inter-Urban...</td>\n",
       "      <td>{'$oid': '52b213b38594d8a2be17c782'}</td>\n",
       "    </tr>\n",
       "    <tr>\n",
       "      <th>3</th>\n",
       "      <td>[{'Name': 'Other social services'}]</td>\n",
       "      <td>N</td>\n",
       "      <td>OTHER</td>\n",
       "      <td>RE</td>\n",
       "      <td>[Social dev/gender/inclusion, Social dev/gende...</td>\n",
       "      <td>0</td>\n",
       "      <td>LABOR INTENSIVE PUBLIC WORKS PROJECT PMU</td>\n",
       "      <td>Gov't and Civil Society Organization Partnership</td>\n",
       "      <td>7,7</td>\n",
       "      <td>NaN</td>\n",
       "      <td>...</td>\n",
       "      <td>[{'Percent': 100, 'Name': 'Health and other so...</td>\n",
       "      <td>October</td>\n",
       "      <td>[{'code': '57', 'name': 'Participation and civ...</td>\n",
       "      <td>Republic of Yemen</td>\n",
       "      <td>http://www.worldbank.org/projects/P144665?lang=en</td>\n",
       "      <td>IBRD</td>\n",
       "      <td>Active</td>\n",
       "      <td>0</td>\n",
       "      <td>[{'code': 'JB', 'name': 'Other social services'}]</td>\n",
       "      <td>{'$oid': '52b213b38594d8a2be17c783'}</td>\n",
       "    </tr>\n",
       "    <tr>\n",
       "      <th>4</th>\n",
       "      <td>[{'Name': 'General industry and trade sector'}...</td>\n",
       "      <td>N</td>\n",
       "      <td>IDA</td>\n",
       "      <td>PE</td>\n",
       "      <td>[Trade and integration, Financial and private ...</td>\n",
       "      <td>13100000</td>\n",
       "      <td>MINISTRY OF TRADE AND INDUSTRY</td>\n",
       "      <td>Second Private Sector Competitiveness and Econ...</td>\n",
       "      <td>5,4</td>\n",
       "      <td>2019-04-30T00:00:00Z</td>\n",
       "      <td>...</td>\n",
       "      <td>[{'Percent': 50, 'Name': 'Industry and trade'}...</td>\n",
       "      <td>October</td>\n",
       "      <td>[{'code': '45', 'name': 'Export development an...</td>\n",
       "      <td>Kingdom of Lesotho</td>\n",
       "      <td>http://www.worldbank.org/projects/P144933/seco...</td>\n",
       "      <td>IBRD</td>\n",
       "      <td>Active</td>\n",
       "      <td>0</td>\n",
       "      <td>[{'code': 'YZ', 'name': 'General industry and ...</td>\n",
       "      <td>{'$oid': '52b213b38594d8a2be17c784'}</td>\n",
       "    </tr>\n",
       "  </tbody>\n",
       "</table>\n",
       "<p>5 rows × 50 columns</p>\n",
       "</div>"
      ],
      "text/plain": [
       "                                              sector supplementprojectflg  \\\n",
       "0  [{'Name': 'Primary education'}, {'Name': 'Seco...                    N   \n",
       "1  [{'Name': 'Public administration- Other social...                    N   \n",
       "2  [{'Name': 'Rural and Inter-Urban Roads and Hig...                    Y   \n",
       "3                [{'Name': 'Other social services'}]                    N   \n",
       "4  [{'Name': 'General industry and trade sector'}...                    N   \n",
       "\n",
       "  projectfinancialtype prodline  \\\n",
       "0                  IDA       PE   \n",
       "1                OTHER       RE   \n",
       "2                  IDA       PE   \n",
       "3                OTHER       RE   \n",
       "4                  IDA       PE   \n",
       "\n",
       "                                             mjtheme  idacommamt  \\\n",
       "0                                [Human development]   130000000   \n",
       "1  [Economic management, Social protection and ri...           0   \n",
       "2  [Trade and integration, Public sector governan...     6060000   \n",
       "3  [Social dev/gender/inclusion, Social dev/gende...           0   \n",
       "4  [Trade and integration, Financial and private ...    13100000   \n",
       "\n",
       "                                  impagency  \\\n",
       "0                     MINISTRY OF EDUCATION   \n",
       "1                       MINISTRY OF FINANCE   \n",
       "2  MINISTRY OF TRANSPORT AND COMMUNICATIONS   \n",
       "3  LABOR INTENSIVE PUBLIC WORKS PROJECT PMU   \n",
       "4            MINISTRY OF TRADE AND INDUSTRY   \n",
       "\n",
       "                                        project_name mjthemecode  \\\n",
       "0  Ethiopia General Education Quality Improvement...        8,11   \n",
       "1          TN: DTF Social Protection Reforms Support         1,6   \n",
       "2  Tuvalu Aviation Investment Project - Additiona...    5,2,11,6   \n",
       "3   Gov't and Civil Society Organization Partnership         7,7   \n",
       "4  Second Private Sector Competitiveness and Econ...         5,4   \n",
       "\n",
       "            closingdate  ...  \\\n",
       "0  2018-07-07T00:00:00Z  ...   \n",
       "1                   NaN  ...   \n",
       "2                   NaN  ...   \n",
       "3                   NaN  ...   \n",
       "4  2019-04-30T00:00:00Z  ...   \n",
       "\n",
       "                                 majorsector_percent board_approval_month  \\\n",
       "0  [{'Percent': 46, 'Name': 'Education'}, {'Perce...             November   \n",
       "1  [{'Percent': 70, 'Name': 'Public Administratio...             November   \n",
       "2       [{'Percent': 100, 'Name': 'Transportation'}]             November   \n",
       "3  [{'Percent': 100, 'Name': 'Health and other so...              October   \n",
       "4  [{'Percent': 50, 'Name': 'Industry and trade'}...              October   \n",
       "\n",
       "                                      theme_namecode  \\\n",
       "0      [{'code': '65', 'name': 'Education for all'}]   \n",
       "1  [{'code': '24', 'name': 'Other economic manage...   \n",
       "2  [{'code': '47', 'name': 'Regional integration'...   \n",
       "3  [{'code': '57', 'name': 'Participation and civ...   \n",
       "4  [{'code': '45', 'name': 'Export development an...   \n",
       "\n",
       "                               countryname  \\\n",
       "0  Federal Democratic Republic of Ethiopia   \n",
       "1                      Republic of Tunisia   \n",
       "2                                   Tuvalu   \n",
       "3                        Republic of Yemen   \n",
       "4                       Kingdom of Lesotho   \n",
       "\n",
       "                                                 url source  \\\n",
       "0  http://www.worldbank.org/projects/P129828/ethi...   IBRD   \n",
       "1  http://www.worldbank.org/projects/P144674?lang=en   IBRD   \n",
       "2  http://www.worldbank.org/projects/P145310?lang=en   IBRD   \n",
       "3  http://www.worldbank.org/projects/P144665?lang=en   IBRD   \n",
       "4  http://www.worldbank.org/projects/P144933/seco...   IBRD   \n",
       "\n",
       "  projectstatusdisplay ibrdcommamt  \\\n",
       "0               Active           0   \n",
       "1               Active           0   \n",
       "2               Active           0   \n",
       "3               Active           0   \n",
       "4               Active           0   \n",
       "\n",
       "                                     sector_namecode  \\\n",
       "0  [{'code': 'EP', 'name': 'Primary education'}, ...   \n",
       "1  [{'code': 'BS', 'name': 'Public administration...   \n",
       "2  [{'code': 'TI', 'name': 'Rural and Inter-Urban...   \n",
       "3  [{'code': 'JB', 'name': 'Other social services'}]   \n",
       "4  [{'code': 'YZ', 'name': 'General industry and ...   \n",
       "\n",
       "                                    _id  \n",
       "0  {'$oid': '52b213b38594d8a2be17c780'}  \n",
       "1  {'$oid': '52b213b38594d8a2be17c781'}  \n",
       "2  {'$oid': '52b213b38594d8a2be17c782'}  \n",
       "3  {'$oid': '52b213b38594d8a2be17c783'}  \n",
       "4  {'$oid': '52b213b38594d8a2be17c784'}  \n",
       "\n",
       "[5 rows x 50 columns]"
      ]
     },
     "execution_count": 11,
     "metadata": {},
     "output_type": "execute_result"
    }
   ],
   "source": [
    "df.head()"
   ]
  },
  {
   "cell_type": "code",
   "execution_count": 12,
   "metadata": {},
   "outputs": [
    {
     "data": {
      "text/plain": [
       "projectfinancialtype\n",
       "IBRD     101\n",
       "IDA      216\n",
       "OTHER    183\n",
       "dtype: int64"
      ]
     },
     "execution_count": 12,
     "metadata": {},
     "output_type": "execute_result"
    }
   ],
   "source": [
    "#1.List down Project Financial type in worldbank dataset.\n",
    "df.groupby('projectfinancialtype').size()"
   ]
  },
  {
   "cell_type": "markdown",
   "metadata": {},
   "source": [
    "## 1.Find the 10 countries with most projects"
   ]
  },
  {
   "cell_type": "code",
   "execution_count": 13,
   "metadata": {},
   "outputs": [
    {
     "data": {
      "text/plain": [
       "Republic of Indonesia              19\n",
       "People's Republic of China         19\n",
       "Socialist Republic of Vietnam      17\n",
       "Republic of India                  16\n",
       "Republic of Yemen                  13\n",
       "Kingdom of Morocco                 12\n",
       "People's Republic of Bangladesh    12\n",
       "Nepal                              12\n",
       "Africa                             11\n",
       "Republic of Mozambique             11\n",
       "Name: countryname, dtype: int64"
      ]
     },
     "execution_count": 13,
     "metadata": {},
     "output_type": "execute_result"
    }
   ],
   "source": [
    "#2. Listdown the top 10 countries with number of project.\n",
    "top_10_projects =df['countryname'].value_counts().head(10)\n",
    "top_10_projects"
   ]
  },
  {
   "cell_type": "code",
   "execution_count": 14,
   "metadata": {},
   "outputs": [
    {
     "data": {
      "image/png": "[encoded data removed]",
      "text/plain": [
       "<Figure size 1152x576 with 1 Axes>"
      ]
     },
     "metadata": {
      "needs_background": "light"
     },
     "output_type": "display_data"
    }
   ],
   "source": [
    "#3.Created the top_10_countries plot using matplotlib.\n",
    "top_10_projects.plot(kind='bar' , figsize=(16,8))\n",
    "plt.ylim(0,20)\n",
    "plt.xlabel(\"Countries\")\n",
    "plt.ylabel(\"#Projects\")\n",
    "plt.title(\"Top 10 countries Project\")\n",
    "plt.tight_layout()\n",
    "plt.show()"
   ]
  },
  {
   "cell_type": "markdown",
   "metadata": {},
   "source": [
    "## 2.Find the top 10 major project themes (using column 'mjtheme_namecode')"
   ]
  },
  {
   "cell_type": "code",
   "execution_count": 15,
   "metadata": {},
   "outputs": [],
   "source": [
    "#2. Find the top 10 major project themes (using column 'mjtheme_namecode')\n",
    "world_bank = json.load(open('../Desktop/data/world_bank_projects.json'))"
   ]
  },
  {
   "cell_type": "code",
   "execution_count": 16,
   "metadata": {},
   "outputs": [
    {
     "name": "stderr",
     "output_type": "stream",
     "text": [
      "/Users/prashantsingh/opt/anaconda3/lib/python3.7/site-packages/ipykernel_launcher.py:2: FutureWarning: pandas.io.json.json_normalize is deprecated, use pandas.json_normalize instead\n",
      "  \n"
     ]
    }
   ],
   "source": [
    "#Normalize the mjtheme_namecode\n",
    "theme = json_normalize(world_bank,'mjtheme_namecode')"
   ]
  },
  {
   "cell_type": "code",
   "execution_count": 17,
   "metadata": {},
   "outputs": [
    {
     "data": {
      "text/plain": [
       "code  name                                        \n",
       "11    Environment and natural resources management    223\n",
       "10    Rural development                               202\n",
       "8     Human development                               197\n",
       "2     Public sector governance                        184\n",
       "6     Social protection and risk management           158\n",
       "4     Financial and private sector development        130\n",
       "7     Social dev/gender/inclusion                     119\n",
       "5     Trade and integration                            72\n",
       "9     Urban development                                47\n",
       "1     Economic management                              33\n",
       "dtype: int64"
      ]
     },
     "execution_count": 17,
     "metadata": {},
     "output_type": "execute_result"
    }
   ],
   "source": [
    "theme.groupby(['code','name']).size().sort_values(ascending = False).head(10)"
   ]
  },
  {
   "cell_type": "markdown",
   "metadata": {},
   "source": [
    "## 3. In 2. above you will notice that some entries have only the code and the name is missing. Create a dataframe with the missing names filled in."
   ]
  },
  {
   "cell_type": "code",
   "execution_count": 18,
   "metadata": {},
   "outputs": [
    {
     "data": {
      "text/plain": [
       "code  name                                        \n",
       "11    Environment and natural resources management    223\n",
       "10    Rural development                               202\n",
       "8     Human development                               197\n",
       "2     Public sector governance                        184\n",
       "6     Social protection and risk management           158\n",
       "4     Financial and private sector development        130\n",
       "7     Social dev/gender/inclusion                     119\n",
       "5     Trade and integration                            72\n",
       "9     Urban development                                47\n",
       "1     Economic management                              33\n",
       "11                                                     27\n",
       "4                                                      16\n",
       "2                                                      15\n",
       "10                                                     14\n",
       "8                                                      13\n",
       "3     Rule of law                                      12\n",
       "7                                                      11\n",
       "6                                                      10\n",
       "5                                                       5\n",
       "1                                                       5\n",
       "3                                                       3\n",
       "9                                                       3\n",
       "dtype: int64"
      ]
     },
     "execution_count": 18,
     "metadata": {},
     "output_type": "execute_result"
    }
   ],
   "source": [
    "# first see all the themes for all the codes\n",
    "theme.groupby(['code','name']).size().sort_values(ascending = False)"
   ]
  },
  {
   "cell_type": "code",
   "execution_count": 19,
   "metadata": {},
   "outputs": [
    {
     "data": {
      "text/plain": [
       "code  name                                        \n",
       "11    Environment and natural resources management    250\n",
       "10    Rural development                               216\n",
       "8     Human development                               210\n",
       "2     Public sector governance                        199\n",
       "6     Social protection and risk management           168\n",
       "4     Financial and private sector development        146\n",
       "7     Social dev/gender/inclusion                     130\n",
       "5     Trade and integration                            77\n",
       "9     Urban development                                50\n",
       "1     Economic management                              38\n",
       "3     Rule of law                                      15\n",
       "dtype: int64"
      ]
     },
     "execution_count": 19,
     "metadata": {},
     "output_type": "execute_result"
    }
   ],
   "source": [
    "# first create a themes map with theme name and code\n",
    "themes_map = theme.groupby(\"code\")[\"name\"].describe().reset_index()\n",
    "themes_map = themes_map[[\"code\",\"top\"]].rename(columns={\"top\":\"name\"})\n",
    "\n",
    "# now update the existing data frame filling missing values from the map.\n",
    "themes_update = theme[[\"code\"]].merge(themes_map, how=\"left\", on=\"code\")\n",
    "\n",
    "# now group by theme name and sort them\n",
    "themes_update.groupby(['code','name']).size().sort_values(ascending = False)"
   ]
  },
  {
   "cell_type": "code",
   "execution_count": null,
   "metadata": {},
   "outputs": [],
   "source": []
  }
 ],
 "metadata": {
  "kernelspec": {
   "display_name": "Python 3",
   "language": "python",
   "name": "python3"
  },
  "language_info": {
   "codemirror_mode": {
    "name": "ipython",
    "version": 3
   },
   "file_extension": ".py",
   "mimetype": "text/x-python",
   "name": "python",
   "nbconvert_exporter": "python",
   "pygments_lexer": "ipython3",
   "version": "3.7.4"
  }
 },
 "nbformat": 4,
 "nbformat_minor": 2
}
